{
 "cells": [
  {
   "cell_type": "markdown",
   "metadata": {},
   "source": [
    "# 程序说明"
   ]
  },
  {
   "cell_type": "markdown",
   "metadata": {},
   "source": [
    "> 这是一个使用卷积网络在CIFAR10数据集上做分类的程序，其中使用了数据增强\n",
    "\n",
    "> 数据集：CIFAR10"
   ]
  },
  {
   "cell_type": "markdown",
   "metadata": {},
   "source": [
    "# 加载keras模块"
   ]
  },
  {
   "cell_type": "code",
   "execution_count": 2,
   "metadata": {},
   "outputs": [
    {
     "name": "stderr",
     "output_type": "stream",
     "text": [
      "Using TensorFlow backend.\n"
     ]
    }
   ],
   "source": [
    "from __future__ import print_function\n",
    "\n",
    "from keras.datasets import cifar10\n",
    "from keras.preprocessing.image import ImageDataGenerator\n",
    "\n",
    "from keras.models import Sequential\n",
    "from keras.layers import Dense, Dropout, Activation, Flatten\n",
    "from keras.layers import Convolution2D, MaxPooling2D\n",
    "\n",
    "from keras.optimizers import SGD\n",
    "from keras.utils import np_utils"
   ]
  },
  {
   "cell_type": "markdown",
   "metadata": {},
   "source": [
    "# 变量初始化"
   ]
  },
  {
   "cell_type": "code",
   "execution_count": 3,
   "metadata": {},
   "outputs": [],
   "source": [
    "batch_size = 32\n",
    "nb_classes = 10\n",
    "nb_epoch = 20\n",
    "data_augmentation = True\n",
    "\n",
    "# input image dimensions\n",
    "img_rows, img_cols = 32, 32\n",
    "\n",
    "# the CIFAR10 images are RGB三通道\n",
    "img_channels = 3"
   ]
  },
  {
   "cell_type": "markdown",
   "metadata": {},
   "source": [
    "# 准备数据"
   ]
  },
  {
   "cell_type": "code",
   "execution_count": 10,
   "metadata": {},
   "outputs": [
    {
     "name": "stdout",
     "output_type": "stream",
     "text": [
      "X_train shape: (50000, 32, 32, 3)\n",
      "50000 train samples\n",
      "10000 test samples\n"
     ]
    }
   ],
   "source": [
    "# the data, shuffled and split between train and test sets\n",
    "(X_train, y_train), (X_test, y_test) = cifar10.load_data()\n",
    "\n",
    "print('X_train shape:', X_train.shape)\n",
    "print(X_train.shape[0], 'train samples')\n",
    "print(X_test.shape[0], 'test samples')"
   ]
  },
  {
   "cell_type": "markdown",
   "metadata": {},
   "source": [
    "# 数据归一化（压缩为0~1之间）"
   ]
  },
  {
   "cell_type": "code",
   "execution_count": 11,
   "metadata": {},
   "outputs": [],
   "source": [
    "X_train = X_train.astype('float32')\n",
    "X_test = X_test.astype('float32')\n",
    "X_train /= 255\n",
    "X_test /= 255"
   ]
  },
  {
   "cell_type": "markdown",
   "metadata": {},
   "source": [
    "# 转换类标号"
   ]
  },
  {
   "cell_type": "code",
   "execution_count": 12,
   "metadata": {},
   "outputs": [
    {
     "name": "stdout",
     "output_type": "stream",
     "text": [
      "(50000, 1) (50000, 10)\n"
     ]
    }
   ],
   "source": [
    "# convert class vectors to binary class matrices\n",
    "Y_train = np_utils.to_categorical(y_train, nb_classes)\n",
    "Y_test = np_utils.to_categorical(y_test, nb_classes)\n",
    "\n",
    "print(y_train.shape, Y_train.shape)"
   ]
  },
  {
   "cell_type": "markdown",
   "metadata": {},
   "source": [
    "# 建立模型"
   ]
  },
  {
   "cell_type": "code",
   "execution_count": 13,
   "metadata": {},
   "outputs": [
    {
     "name": "stderr",
     "output_type": "stream",
     "text": [
      "D:\\Miniconda3\\lib\\site-packages\\ipykernel_launcher.py:4: UserWarning: Update your `Conv2D` call to the Keras 2 API: `Conv2D(32, (3, 3), input_shape=(32, 32, 3..., padding=\"same\")`\n",
      "  after removing the cwd from sys.path.\n",
      "D:\\Miniconda3\\lib\\site-packages\\ipykernel_launcher.py:6: UserWarning: Update your `Conv2D` call to the Keras 2 API: `Conv2D(32, (3, 3))`\n",
      "  \n",
      "D:\\Miniconda3\\lib\\site-packages\\ipykernel_launcher.py:11: UserWarning: Update your `Conv2D` call to the Keras 2 API: `Conv2D(64, (3, 3), padding=\"same\")`\n",
      "  # This is added back by InteractiveShellApp.init_path()\n",
      "D:\\Miniconda3\\lib\\site-packages\\ipykernel_launcher.py:13: UserWarning: Update your `Conv2D` call to the Keras 2 API: `Conv2D(64, (3, 3))`\n",
      "  del sys.path[0]\n"
     ]
    }
   ],
   "source": [
    "model = Sequential()\n",
    "\n",
    "model.add(Convolution2D(32, 3, 3, border_mode='same',\n",
    "                        input_shape=X_train.shape[1:]))\n",
    "model.add(Activation('relu'))\n",
    "model.add(Convolution2D(32, 3, 3))\n",
    "model.add(Activation('relu'))\n",
    "model.add(MaxPooling2D(pool_size=(2, 2)))\n",
    "model.add(Dropout(0.25))\n",
    "\n",
    "model.add(Convolution2D(64, 3, 3, border_mode='same'))\n",
    "model.add(Activation('relu'))\n",
    "model.add(Convolution2D(64, 3, 3))\n",
    "model.add(Activation('relu'))\n",
    "model.add(MaxPooling2D(pool_size=(2, 2)))\n",
    "model.add(Dropout(0.25))\n",
    "\n",
    "model.add(Flatten())\n",
    "model.add(Dense(512))\n",
    "model.add(Activation('relu'))\n",
    "model.add(Dropout(0.5))\n",
    "model.add(Dense(nb_classes))\n",
    "model.add(Activation('softmax'))"
   ]
  },
  {
   "cell_type": "markdown",
   "metadata": {},
   "source": [
    "## 打印模型"
   ]
  },
  {
   "cell_type": "code",
   "execution_count": 14,
   "metadata": {},
   "outputs": [
    {
     "name": "stdout",
     "output_type": "stream",
     "text": [
      "_________________________________________________________________\n",
      "Layer (type)                 Output Shape              Param #   \n",
      "=================================================================\n",
      "conv2d_9 (Conv2D)            (None, 32, 32, 32)        896       \n",
      "_________________________________________________________________\n",
      "activation_13 (Activation)   (None, 32, 32, 32)        0         \n",
      "_________________________________________________________________\n",
      "conv2d_10 (Conv2D)           (None, 30, 30, 32)        9248      \n",
      "_________________________________________________________________\n",
      "activation_14 (Activation)   (None, 30, 30, 32)        0         \n",
      "_________________________________________________________________\n",
      "max_pooling2d_5 (MaxPooling2 (None, 15, 15, 32)        0         \n",
      "_________________________________________________________________\n",
      "dropout_7 (Dropout)          (None, 15, 15, 32)        0         \n",
      "_________________________________________________________________\n",
      "conv2d_11 (Conv2D)           (None, 15, 15, 64)        18496     \n",
      "_________________________________________________________________\n",
      "activation_15 (Activation)   (None, 15, 15, 64)        0         \n",
      "_________________________________________________________________\n",
      "conv2d_12 (Conv2D)           (None, 13, 13, 64)        36928     \n",
      "_________________________________________________________________\n",
      "activation_16 (Activation)   (None, 13, 13, 64)        0         \n",
      "_________________________________________________________________\n",
      "max_pooling2d_6 (MaxPooling2 (None, 6, 6, 64)          0         \n",
      "_________________________________________________________________\n",
      "dropout_8 (Dropout)          (None, 6, 6, 64)          0         \n",
      "_________________________________________________________________\n",
      "flatten_3 (Flatten)          (None, 2304)              0         \n",
      "_________________________________________________________________\n",
      "dense_5 (Dense)              (None, 512)               1180160   \n",
      "_________________________________________________________________\n",
      "activation_17 (Activation)   (None, 512)               0         \n",
      "_________________________________________________________________\n",
      "dropout_9 (Dropout)          (None, 512)               0         \n",
      "_________________________________________________________________\n",
      "dense_6 (Dense)              (None, 10)                5130      \n",
      "_________________________________________________________________\n",
      "activation_18 (Activation)   (None, 10)                0         \n",
      "=================================================================\n",
      "Total params: 1,250,858\n",
      "Trainable params: 1,250,858\n",
      "Non-trainable params: 0\n",
      "_________________________________________________________________\n"
     ]
    }
   ],
   "source": [
    "model.summary()"
   ]
  },
  {
   "cell_type": "markdown",
   "metadata": {},
   "source": [
    "# 训练与评估"
   ]
  },
  {
   "cell_type": "markdown",
   "metadata": {},
   "source": [
    "## 编译模型"
   ]
  },
  {
   "cell_type": "code",
   "execution_count": 15,
   "metadata": {},
   "outputs": [],
   "source": [
    "# let's train the model using SGD + momentum (how original).\n",
    "sgd = SGD(lr=0.01, decay=1e-6, momentum=0.9, nesterov=True)\n",
    "\n",
    "model.compile(\n",
    "    loss='categorical_crossentropy',\n",
    "    optimizer=sgd,\n",
    "    metrics=['accuracy']\n",
    ")"
   ]
  },
  {
   "cell_type": "markdown",
   "metadata": {},
   "source": [
    "## 数据增强\n",
    "数据增强使用的**ImageDataGenerator**这个函数"
   ]
  },
  {
   "cell_type": "code",
   "execution_count": 16,
   "metadata": {},
   "outputs": [
    {
     "name": "stdout",
     "output_type": "stream",
     "text": [
      "Using real-time data augmentation.\n",
      "WARNING:tensorflow:From D:\\Miniconda3\\lib\\site-packages\\tensorflow\\python\\ops\\math_ops.py:3066: to_int32 (from tensorflow.python.ops.math_ops) is deprecated and will be removed in a future version.\n",
      "Instructions for updating:\n",
      "Use tf.cast instead.\n"
     ]
    },
    {
     "name": "stderr",
     "output_type": "stream",
     "text": [
      "D:\\Miniconda3\\lib\\site-packages\\ipykernel_launcher.py:33: UserWarning: The semantics of the Keras 2 argument `steps_per_epoch` is not the same as the Keras 1 argument `samples_per_epoch`. `steps_per_epoch` is the number of batches to draw from the generator at each epoch. Basically steps_per_epoch = samples_per_epoch/batch_size. Similarly `nb_val_samples`->`validation_steps` and `val_samples`->`steps` arguments have changed. Update your method calls accordingly.\n",
      "D:\\Miniconda3\\lib\\site-packages\\ipykernel_launcher.py:33: UserWarning: Update your `fit_generator` call to the Keras 2 API: `fit_generator(<keras_pre..., validation_data=(array([[[..., steps_per_epoch=1562, epochs=20)`\n"
     ]
    },
    {
     "name": "stdout",
     "output_type": "stream",
     "text": [
      "Epoch 1/20\n",
      "1562/1562 [==============================] - 180s 115ms/step - loss: 1.7997 - acc: 0.3317 - val_loss: 1.3777 - val_acc: 0.4891\n",
      "Epoch 2/20\n",
      "1562/1562 [==============================] - 159s 102ms/step - loss: 1.4469 - acc: 0.4766 - val_loss: 1.1925 - val_acc: 0.5709\n",
      "Epoch 3/20\n",
      "1562/1562 [==============================] - 150s 96ms/step - loss: 1.2896 - acc: 0.5375 - val_loss: 1.0689 - val_acc: 0.6249\n",
      "Epoch 4/20\n",
      "1562/1562 [==============================] - 151s 97ms/step - loss: 1.2024 - acc: 0.5713 - val_loss: 1.0826 - val_acc: 0.6138\n",
      "Epoch 5/20\n",
      "1562/1562 [==============================] - 150s 96ms/step - loss: 1.1292 - acc: 0.5978 - val_loss: 1.0223 - val_acc: 0.6357\n",
      "Epoch 6/20\n",
      "1562/1562 [==============================] - 150s 96ms/step - loss: 1.0776 - acc: 0.6181 - val_loss: 0.9573 - val_acc: 0.6665\n",
      "Epoch 7/20\n",
      "1562/1562 [==============================] - 149s 95ms/step - loss: 1.0412 - acc: 0.6331 - val_loss: 0.8425 - val_acc: 0.7060\n",
      "Epoch 8/20\n",
      "1562/1562 [==============================] - 153s 98ms/step - loss: 1.0156 - acc: 0.6433 - val_loss: 0.8505 - val_acc: 0.7061\n",
      "Epoch 9/20\n",
      "1562/1562 [==============================] - 149s 96ms/step - loss: 0.9902 - acc: 0.6533 - val_loss: 0.9165 - val_acc: 0.6885\n",
      "Epoch 10/20\n",
      "1562/1562 [==============================] - 147s 94ms/step - loss: 0.9683 - acc: 0.6595 - val_loss: 0.8592 - val_acc: 0.6987\n",
      "Epoch 11/20\n",
      "1562/1562 [==============================] - 148s 95ms/step - loss: 0.9496 - acc: 0.6700 - val_loss: 0.7650 - val_acc: 0.7323\n",
      "Epoch 12/20\n",
      "1562/1562 [==============================] - 150s 96ms/step - loss: 0.9369 - acc: 0.6730 - val_loss: 0.7738 - val_acc: 0.7313\n",
      "Epoch 13/20\n",
      "1562/1562 [==============================] - 152s 97ms/step - loss: 0.9310 - acc: 0.6766 - val_loss: 0.9147 - val_acc: 0.6869\n",
      "Epoch 14/20\n",
      "1562/1562 [==============================] - 156s 100ms/step - loss: 0.9190 - acc: 0.6842 - val_loss: 0.8238 - val_acc: 0.7130\n",
      "Epoch 15/20\n",
      "1562/1562 [==============================] - 158s 101ms/step - loss: 0.9067 - acc: 0.6873 - val_loss: 0.8359 - val_acc: 0.7100\n",
      "Epoch 16/20\n",
      "1562/1562 [==============================] - 158s 101ms/step - loss: 0.9021 - acc: 0.6875 - val_loss: 0.7871 - val_acc: 0.7327\n",
      "Epoch 17/20\n",
      "1562/1562 [==============================] - 151s 97ms/step - loss: 0.8945 - acc: 0.6913 - val_loss: 0.8356 - val_acc: 0.7099\n",
      "Epoch 18/20\n",
      "1562/1562 [==============================] - 150s 96ms/step - loss: 0.8877 - acc: 0.6936 - val_loss: 0.8357 - val_acc: 0.7149\n",
      "Epoch 19/20\n",
      "1562/1562 [==============================] - 156s 100ms/step - loss: 0.8850 - acc: 0.6945 - val_loss: 0.7152 - val_acc: 0.7515\n",
      "Epoch 20/20\n",
      "1562/1562 [==============================] - 155s 100ms/step - loss: 0.8830 - acc: 0.6972 - val_loss: 0.7400 - val_acc: 0.7463\n"
     ]
    }
   ],
   "source": [
    "if not data_augmentation:\n",
    "    print('Not using data augmentation.')\n",
    "    model.fit(X_train, Y_train,\n",
    "              batch_size=batch_size,\n",
    "              nb_epoch=nb_epoch,\n",
    "              validation_data=(X_test, Y_test),\n",
    "              shuffle=True)\n",
    "else:\n",
    "    print('Using real-time data augmentation.')\n",
    "\n",
    "    # 这将做预处理和实时数据增加\n",
    "    datagen = ImageDataGenerator(\n",
    "        featurewise_center=False,  # 在数据集上将输入平均值设置为0\n",
    "        samplewise_center=False,   # 将每个样本均值设置为0\n",
    "        featurewise_std_normalization=False,  # 将输入除以数据集的std\n",
    "        samplewise_std_normalization=False,   # 将每个输入除以其std\n",
    "        zca_whitening=False,  # 应用ZCA白化\n",
    "        rotation_range=0,     # 在一个范围下随机旋转图像(degrees, 0 to 180)\n",
    "        width_shift_range=0.1,   # 水平随机移位图像（总宽度的分数）\n",
    "        height_shift_range=0.1,  # 随机地垂直移动图像（总高度的分数）\n",
    "        horizontal_flip=True,   # 随机翻转图像\n",
    "        vertical_flip=False)    # 随机翻转图像\n",
    "\n",
    "    # 计算特征方向归一化所需的数量\n",
    "    # (std, mean, and principal components if ZCA whitening is applied)\n",
    "    datagen.fit(X_train)\n",
    "\n",
    "    # fit the model on the batches generated by datagen.flow()\n",
    "    model.fit_generator(\n",
    "        datagen.flow(\n",
    "            X_train, Y_train,\n",
    "            batch_size=batch_size\n",
    "        ),\n",
    "        samples_per_epoch=X_train.shape[0],\n",
    "        nb_epoch=nb_epoch,\n",
    "        validation_data=(X_test, Y_test)\n",
    "    )"
   ]
  },
  {
   "cell_type": "code",
   "execution_count": null,
   "metadata": {},
   "outputs": [],
   "source": []
  }
 ],
 "metadata": {
  "kernelspec": {
   "display_name": "Python 3",
   "language": "python",
   "name": "python3"
  },
  "language_info": {
   "codemirror_mode": {
    "name": "ipython",
    "version": 3
   },
   "file_extension": ".py",
   "mimetype": "text/x-python",
   "name": "python",
   "nbconvert_exporter": "python",
   "pygments_lexer": "ipython3",
   "version": "3.7.1"
  },
  "toc": {
   "base_numbering": 1,
   "nav_menu": {},
   "number_sections": true,
   "sideBar": true,
   "skip_h1_title": false,
   "title_cell": "Table of Contents",
   "title_sidebar": "Contents",
   "toc_cell": false,
   "toc_position": {},
   "toc_section_display": true,
   "toc_window_display": true
  }
 },
 "nbformat": 4,
 "nbformat_minor": 2
}
