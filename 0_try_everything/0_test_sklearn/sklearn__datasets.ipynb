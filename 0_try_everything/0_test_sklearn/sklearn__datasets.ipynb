{
 "cells": [
  {
   "cell_type": "markdown",
   "metadata": {},
   "source": [
    "# 生成libsvm文件"
   ]
  },
  {
   "cell_type": "code",
   "execution_count": 2,
   "metadata": {
    "collapsed": true
   },
   "outputs": [],
   "source": [
    "import numpy as np\n",
    "from sklearn.datasets import dump_svmlight_file"
   ]
  },
  {
   "cell_type": "code",
   "execution_count": 101,
   "metadata": {
    "collapsed": true
   },
   "outputs": [],
   "source": [
    "?dump_svmlight_file"
   ]
  },
  {
   "cell_type": "code",
   "execution_count": 102,
   "metadata": {
    "collapsed": false
   },
   "outputs": [],
   "source": [
    "def test_dump_svmlight_file(file):\n",
    "    raw_data = np.random.random((4,3))\n",
    "    print(type(raw_data))\n",
    "    data = np.array(raw_data)\n",
    "    X = data[:, 0:2]\n",
    "    y = data[:, 2]\n",
    "    dump_svmlight_file(X, y, file, zero_based=False)  # 使用zero_based控制从0或1开始"
   ]
  },
  {
   "cell_type": "code",
   "execution_count": 103,
   "metadata": {
    "collapsed": true
   },
   "outputs": [],
   "source": [
    "libsvm_filepath = './test.libsvm'"
   ]
  },
  {
   "cell_type": "code",
   "execution_count": 104,
   "metadata": {
    "collapsed": false
   },
   "outputs": [
    {
     "name": "stdout",
     "output_type": "stream",
     "text": [
      "<class 'numpy.ndarray'>\n"
     ]
    }
   ],
   "source": [
    "test_dump_svmlight_file(libsvm_filepath)"
   ]
  },
  {
   "cell_type": "markdown",
   "metadata": {},
   "source": [
    "# 加载libsvm文件|"
   ]
  },
  {
   "cell_type": "code",
   "execution_count": 105,
   "metadata": {
    "collapsed": true
   },
   "outputs": [],
   "source": [
    "from sklearn.datasets import load_svmlight_file"
   ]
  },
  {
   "cell_type": "code",
   "execution_count": 106,
   "metadata": {
    "collapsed": false
   },
   "outputs": [],
   "source": [
    "x, y = load_svmlight_file(libsvm_filepath)"
   ]
  },
  {
   "cell_type": "code",
   "execution_count": 107,
   "metadata": {
    "collapsed": false
   },
   "outputs": [
    {
     "data": {
      "text/plain": [
       "array([[ 0.00531949,  0.69168541],\n",
       "       [ 0.71125484,  0.62702947],\n",
       "       [ 0.61965325,  0.04849111],\n",
       "       [ 0.08018165,  0.34013723]])"
      ]
     },
     "execution_count": 107,
     "metadata": {},
     "output_type": "execute_result"
    }
   ],
   "source": [
    "x1 = x.toarray()\n",
    "x1"
   ]
  },
  {
   "cell_type": "code",
   "execution_count": 108,
   "metadata": {
    "collapsed": false
   },
   "outputs": [
    {
     "data": {
      "text/plain": [
       "array([ 0.99099646,  0.91316095,  0.8686703 ,  0.42815368])"
      ]
     },
     "execution_count": 108,
     "metadata": {},
     "output_type": "execute_result"
    }
   ],
   "source": [
    "y"
   ]
  },
  {
   "cell_type": "markdown",
   "metadata": {},
   "source": [
    "# 使用sklearn内置数据集"
   ]
  },
  {
   "cell_type": "markdown",
   "metadata": {},
   "source": [
    "### fetch_20newsgroups_vectorized（20类样本的分类问题）"
   ]
  },
  {
   "cell_type": "code",
   "execution_count": 98,
   "metadata": {
    "collapsed": true
   },
   "outputs": [],
   "source": [
    "from sklearn.datasets import fetch_20newsgroups_vectorized"
   ]
  },
  {
   "cell_type": "code",
   "execution_count": 113,
   "metadata": {
    "collapsed": false
   },
   "outputs": [],
   "source": [
    "_20newsgroups_vectorized_data = fetch_20newsgroups_vectorized()"
   ]
  },
  {
   "cell_type": "code",
   "execution_count": 120,
   "metadata": {
    "collapsed": false
   },
   "outputs": [
    {
     "data": {
      "text/plain": [
       "dict_keys(['data', 'target_names', 'target'])"
      ]
     },
     "execution_count": 120,
     "metadata": {},
     "output_type": "execute_result"
    }
   ],
   "source": [
    "_20newsgroups_vectorized_data.keys()"
   ]
  },
  {
   "cell_type": "code",
   "execution_count": 124,
   "metadata": {
    "collapsed": false
   },
   "outputs": [
    {
     "data": {
      "text/plain": [
       "(11314, 130107)"
      ]
     },
     "execution_count": 124,
     "metadata": {},
     "output_type": "execute_result"
    }
   ],
   "source": [
    "_20newsgroups_vectorized_data['data'].toarray().shape"
   ]
  },
  {
   "cell_type": "code",
   "execution_count": 128,
   "metadata": {
    "collapsed": false
   },
   "outputs": [
    {
     "name": "stdout",
     "output_type": "stream",
     "text": [
      "20\n"
     ]
    },
    {
     "data": {
      "text/plain": [
       "['alt.atheism',\n",
       " 'comp.graphics',\n",
       " 'comp.os.ms-windows.misc',\n",
       " 'comp.sys.ibm.pc.hardware',\n",
       " 'comp.sys.mac.hardware',\n",
       " 'comp.windows.x',\n",
       " 'misc.forsale',\n",
       " 'rec.autos',\n",
       " 'rec.motorcycles',\n",
       " 'rec.sport.baseball',\n",
       " 'rec.sport.hockey',\n",
       " 'sci.crypt',\n",
       " 'sci.electronics',\n",
       " 'sci.med',\n",
       " 'sci.space',\n",
       " 'soc.religion.christian',\n",
       " 'talk.politics.guns',\n",
       " 'talk.politics.mideast',\n",
       " 'talk.politics.misc',\n",
       " 'talk.religion.misc']"
      ]
     },
     "execution_count": 128,
     "metadata": {},
     "output_type": "execute_result"
    }
   ],
   "source": [
    "print(len(_20newsgroups_vectorized_data['target_names']))\n",
    "_20newsgroups_vectorized_data['target_names']"
   ]
  },
  {
   "cell_type": "code",
   "execution_count": 129,
   "metadata": {
    "collapsed": false
   },
   "outputs": [
    {
     "name": "stdout",
     "output_type": "stream",
     "text": [
      "11314\n"
     ]
    },
    {
     "data": {
      "text/plain": [
       "array([17,  7, 10, ..., 14, 12, 11])"
      ]
     },
     "execution_count": 129,
     "metadata": {},
     "output_type": "execute_result"
    }
   ],
   "source": [
    "print(len(_20newsgroups_vectorized_data['target']))\n",
    "_20newsgroups_vectorized_data['target']"
   ]
  },
  {
   "cell_type": "markdown",
   "metadata": {},
   "source": [
    "### fetch_20newsgroups（20类样本的分类问题）"
   ]
  },
  {
   "cell_type": "code",
   "execution_count": 4,
   "metadata": {
    "collapsed": true
   },
   "outputs": [],
   "source": [
    "from sklearn.datasets import fetch_20newsgroups"
   ]
  },
  {
   "cell_type": "code",
   "execution_count": 5,
   "metadata": {
    "collapsed": false
   },
   "outputs": [],
   "source": [
    "_20newsgroups_data = fetch_20newsgroups()"
   ]
  },
  {
   "cell_type": "code",
   "execution_count": 6,
   "metadata": {
    "collapsed": false
   },
   "outputs": [
    {
     "data": {
      "text/plain": [
       "dict_keys(['target', 'filenames', 'DESCR', 'description', 'data', 'target_names'])"
      ]
     },
     "execution_count": 6,
     "metadata": {},
     "output_type": "execute_result"
    }
   ],
   "source": [
    "_20newsgroups_data.keys()"
   ]
  },
  {
   "cell_type": "code",
   "execution_count": 131,
   "metadata": {
    "collapsed": true
   },
   "outputs": [],
   "source": [
    "_20newsgroups_data['DESCR']"
   ]
  },
  {
   "cell_type": "code",
   "execution_count": 132,
   "metadata": {
    "collapsed": false
   },
   "outputs": [
    {
     "data": {
      "text/plain": [
       "['alt.atheism',\n",
       " 'comp.graphics',\n",
       " 'comp.os.ms-windows.misc',\n",
       " 'comp.sys.ibm.pc.hardware',\n",
       " 'comp.sys.mac.hardware',\n",
       " 'comp.windows.x',\n",
       " 'misc.forsale',\n",
       " 'rec.autos',\n",
       " 'rec.motorcycles',\n",
       " 'rec.sport.baseball',\n",
       " 'rec.sport.hockey',\n",
       " 'sci.crypt',\n",
       " 'sci.electronics',\n",
       " 'sci.med',\n",
       " 'sci.space',\n",
       " 'soc.religion.christian',\n",
       " 'talk.politics.guns',\n",
       " 'talk.politics.mideast',\n",
       " 'talk.politics.misc',\n",
       " 'talk.religion.misc']"
      ]
     },
     "execution_count": 132,
     "metadata": {},
     "output_type": "execute_result"
    }
   ],
   "source": [
    "_20newsgroups_data['target_names']"
   ]
  },
  {
   "cell_type": "code",
   "execution_count": 133,
   "metadata": {
    "collapsed": false
   },
   "outputs": [
    {
     "data": {
      "text/plain": [
       "'the 20 newsgroups by date dataset'"
      ]
     },
     "execution_count": 133,
     "metadata": {},
     "output_type": "execute_result"
    }
   ],
   "source": [
    "_20newsgroups_data['description']"
   ]
  },
  {
   "cell_type": "code",
   "execution_count": 134,
   "metadata": {
    "collapsed": false
   },
   "outputs": [
    {
     "data": {
      "text/plain": [
       "array([ 'C:\\\\Users\\\\Administrator\\\\scikit_learn_data\\\\20news_home\\\\20news-bydate-train\\\\rec.autos\\\\102994',\n",
       "       'C:\\\\Users\\\\Administrator\\\\scikit_learn_data\\\\20news_home\\\\20news-bydate-train\\\\comp.sys.mac.hardware\\\\51861',\n",
       "       'C:\\\\Users\\\\Administrator\\\\scikit_learn_data\\\\20news_home\\\\20news-bydate-train\\\\comp.sys.mac.hardware\\\\51879',\n",
       "       ...,\n",
       "       'C:\\\\Users\\\\Administrator\\\\scikit_learn_data\\\\20news_home\\\\20news-bydate-train\\\\comp.sys.ibm.pc.hardware\\\\60695',\n",
       "       'C:\\\\Users\\\\Administrator\\\\scikit_learn_data\\\\20news_home\\\\20news-bydate-train\\\\comp.graphics\\\\38319',\n",
       "       'C:\\\\Users\\\\Administrator\\\\scikit_learn_data\\\\20news_home\\\\20news-bydate-train\\\\rec.motorcycles\\\\104440'], \n",
       "      dtype='<U103')"
      ]
     },
     "execution_count": 134,
     "metadata": {},
     "output_type": "execute_result"
    }
   ],
   "source": [
    "_20newsgroups_data['filenames']"
   ]
  },
  {
   "cell_type": "code",
   "execution_count": 137,
   "metadata": {
    "collapsed": false
   },
   "outputs": [
    {
     "data": {
      "text/plain": [
       "11314"
      ]
     },
     "execution_count": 137,
     "metadata": {},
     "output_type": "execute_result"
    }
   ],
   "source": [
    "len(_20newsgroups_data['data'])  # 原始文字数据"
   ]
  },
  {
   "cell_type": "code",
   "execution_count": 2,
   "metadata": {
    "collapsed": false
   },
   "outputs": [
    {
     "ename": "NameError",
     "evalue": "name '_20newsgroups_data' is not defined",
     "output_type": "error",
     "traceback": [
      "\u001b[0;31m---------------------------------------------------------------------------\u001b[0m",
      "\u001b[0;31mNameError\u001b[0m                                 Traceback (most recent call last)",
      "\u001b[0;32m<ipython-input-2-2a44f3ea0033>\u001b[0m in \u001b[0;36m<module>\u001b[0;34m()\u001b[0m\n\u001b[0;32m----> 1\u001b[0;31m \u001b[0mprint\u001b[0m\u001b[1;33m(\u001b[0m\u001b[0mlen\u001b[0m\u001b[1;33m(\u001b[0m\u001b[0m_20newsgroups_data\u001b[0m\u001b[1;33m[\u001b[0m\u001b[1;34m'target'\u001b[0m\u001b[1;33m]\u001b[0m\u001b[1;33m)\u001b[0m\u001b[1;33m)\u001b[0m\u001b[1;33m\u001b[0m\u001b[0m\n\u001b[0m\u001b[1;32m      2\u001b[0m \u001b[0m_20newsgroups_data\u001b[0m\u001b[1;33m[\u001b[0m\u001b[1;34m'target'\u001b[0m\u001b[1;33m]\u001b[0m\u001b[1;33m\u001b[0m\u001b[0m\n",
      "\u001b[0;31mNameError\u001b[0m: name '_20newsgroups_data' is not defined"
     ]
    }
   ],
   "source": [
    "print(len(_20newsgroups_data['target']))\n",
    "_20newsgroups_data['target']"
   ]
  },
  {
   "cell_type": "markdown",
   "metadata": {},
   "source": [
    "### fetch_california_housing（房价回归问题）"
   ]
  },
  {
   "cell_type": "code",
   "execution_count": 2,
   "metadata": {
    "collapsed": true
   },
   "outputs": [],
   "source": [
    "from sklearn.datasets import fetch_california_housing"
   ]
  },
  {
   "cell_type": "code",
   "execution_count": 3,
   "metadata": {
    "collapsed": false
   },
   "outputs": [],
   "source": [
    "house_data = fetch_california_housing()"
   ]
  },
  {
   "cell_type": "code",
   "execution_count": 4,
   "metadata": {
    "collapsed": false
   },
   "outputs": [
    {
     "data": {
      "text/plain": [
       "dict_keys(['DESCR', 'data', 'feature_names', 'target'])"
      ]
     },
     "execution_count": 4,
     "metadata": {},
     "output_type": "execute_result"
    }
   ],
   "source": [
    "house_data.keys()"
   ]
  },
  {
   "cell_type": "markdown",
   "metadata": {},
   "source": [
    "### fetch_covtype（森林中植被类型数据，多分类数据）"
   ]
  },
  {
   "cell_type": "code",
   "execution_count": 8,
   "metadata": {
    "collapsed": true
   },
   "outputs": [],
   "source": [
    "from sklearn.datasets import fetch_covtype"
   ]
  },
  {
   "cell_type": "code",
   "execution_count": 11,
   "metadata": {
    "collapsed": false
   },
   "outputs": [],
   "source": [
    "covtype_data = fetch_covtype()"
   ]
  },
  {
   "cell_type": "code",
   "execution_count": 13,
   "metadata": {
    "collapsed": false
   },
   "outputs": [
    {
     "data": {
      "text/plain": [
       "dict_keys(['DESCR', 'target', 'data'])"
      ]
     },
     "execution_count": 13,
     "metadata": {},
     "output_type": "execute_result"
    }
   ],
   "source": [
    "covtype_data.keys()"
   ]
  },
  {
   "cell_type": "code",
   "execution_count": 19,
   "metadata": {
    "collapsed": false
   },
   "outputs": [
    {
     "data": {
      "text/plain": [
       "{1, 2, 3, 4, 5, 6, 7}"
      ]
     },
     "execution_count": 19,
     "metadata": {},
     "output_type": "execute_result"
    }
   ],
   "source": [
    "len(covtype_data['target'])\n",
    "set(covtype_data['target'])  # 一共7类"
   ]
  },
  {
   "cell_type": "markdown",
   "metadata": {},
   "source": [
    "### fetch_mldata（从标准数据库中拿出经典样例 mldata.org repository）"
   ]
  },
  {
   "cell_type": "code",
   "execution_count": 56,
   "metadata": {
    "collapsed": false
   },
   "outputs": [],
   "source": [
    "from sklearn.datasets import fetch_mldata"
   ]
  },
  {
   "cell_type": "code",
   "execution_count": 57,
   "metadata": {
    "collapsed": false
   },
   "outputs": [],
   "source": [
    "mnist = fetch_mldata('MNIST original', data_home='./mnist_data')"
   ]
  },
  {
   "cell_type": "code",
   "execution_count": 58,
   "metadata": {
    "collapsed": false
   },
   "outputs": [
    {
     "data": {
      "text/plain": [
       "dict_keys(['DESCR', 'data', 'COL_NAMES', 'target'])"
      ]
     },
     "execution_count": 58,
     "metadata": {},
     "output_type": "execute_result"
    }
   ],
   "source": [
    "mnist.keys()"
   ]
  },
  {
   "cell_type": "code",
   "execution_count": 59,
   "metadata": {
    "collapsed": false
   },
   "outputs": [
    {
     "data": {
      "text/plain": [
       "['label', 'data']"
      ]
     },
     "execution_count": 59,
     "metadata": {},
     "output_type": "execute_result"
    }
   ],
   "source": [
    "mnist['COL_NAMES']"
   ]
  },
  {
   "cell_type": "code",
   "execution_count": 60,
   "metadata": {
    "collapsed": false
   },
   "outputs": [
    {
     "data": {
      "text/plain": [
       "(70000, 784)"
      ]
     },
     "execution_count": 60,
     "metadata": {},
     "output_type": "execute_result"
    }
   ],
   "source": [
    "mnist['data'].shape"
   ]
  },
  {
   "cell_type": "code",
   "execution_count": 72,
   "metadata": {
    "collapsed": false
   },
   "outputs": [
    {
     "name": "stdout",
     "output_type": "stream",
     "text": [
      "(70000,)\n"
     ]
    },
    {
     "data": {
      "text/plain": [
       "{0.0, 1.0, 2.0, 3.0, 4.0, 5.0, 6.0, 7.0, 8.0, 9.0}"
      ]
     },
     "execution_count": 72,
     "metadata": {},
     "output_type": "execute_result"
    }
   ],
   "source": [
    "print(mnist['target'].shape)\n",
    "set(mnist['target'])"
   ]
  },
  {
   "cell_type": "code",
   "execution_count": 86,
   "metadata": {
    "collapsed": false
   },
   "outputs": [
    {
     "name": "stdout",
     "output_type": "stream",
     "text": [
      "(28, 28)\n",
      "target:\t 0.0\n"
     ]
    },
    {
     "data": {
      "text/plain": [
       "array([0, 0, 0, 0, 0, 0, 0, 0, 0, 0, 0, 0, 0, 0, 0, 0, 0, 0, 0, 0, 0, 0, 0,\n",
       "       0, 0, 0, 0, 0], dtype=uint8)"
      ]
     },
     "execution_count": 86,
     "metadata": {},
     "output_type": "execute_result"
    },
    {
     "data": {
      "image/png": "[encoded data removed]",
      "text/plain": [
       "<matplotlib.figure.Figure at 0x911d518>"
      ]
     },
     "metadata": {},
     "output_type": "display_data"
    }
   ],
   "source": [
    "mnist_img = mnist['data'][0].reshape(28, 28)\n",
    "# mnist_img = mnist['data'][0].reshape(392, 2)\n",
    "print(mnist_img.shape)\n",
    "\n",
    "%matplotlib inline\n",
    "import matplotlib.pyplot as plt\n",
    "# plt.imshow(mnist_img)\n",
    "plt.imshow(mnist_img, cmap='gray')\n",
    "print('target:\\t', mnist['target'][0])\n",
    "mnist_img[0]"
   ]
  },
  {
   "cell_type": "code",
   "execution_count": 87,
   "metadata": {
    "collapsed": true
   },
   "outputs": [],
   "source": [
    "?plt.imshow"
   ]
  },
  {
   "cell_type": "markdown",
   "metadata": {},
   "source": [
    "### load_digits（手写识别图片数据）"
   ]
  },
  {
   "cell_type": "code",
   "execution_count": 65,
   "metadata": {
    "collapsed": false
   },
   "outputs": [
    {
     "data": {
      "text/plain": [
       "dict_keys(['DESCR', 'images', 'target_names', 'target', 'data'])"
      ]
     },
     "execution_count": 65,
     "metadata": {},
     "output_type": "execute_result"
    }
   ],
   "source": [
    "from sklearn.datasets import load_digits\n",
    "digits_data = load_digits()\n",
    "digits_data.keys()"
   ]
  },
  {
   "cell_type": "code",
   "execution_count": 70,
   "metadata": {
    "collapsed": false
   },
   "outputs": [
    {
     "data": {
      "text/plain": [
       "((1797, 8, 8), (1797,), (1797, 64))"
      ]
     },
     "execution_count": 70,
     "metadata": {},
     "output_type": "execute_result"
    }
   ],
   "source": [
    "digits_data['images'].shape, digits_data['target'].shape, digits_data['data'].shape"
   ]
  },
  {
   "cell_type": "code",
   "execution_count": 88,
   "metadata": {
    "collapsed": false
   },
   "outputs": [
    {
     "data": {
      "text/plain": [
       "{0, 1, 2, 3, 4, 5, 6, 7, 8, 9}"
      ]
     },
     "execution_count": 88,
     "metadata": {},
     "output_type": "execute_result"
    }
   ],
   "source": [
    "set(digits_data['target_names'])"
   ]
  },
  {
   "cell_type": "code",
   "execution_count": 92,
   "metadata": {
    "collapsed": false
   },
   "outputs": [
    {
     "name": "stdout",
     "output_type": "stream",
     "text": [
      "(8, 8)\n",
      "target:\t 0\n"
     ]
    },
    {
     "data": {
      "text/plain": [
       "0"
      ]
     },
     "execution_count": 92,
     "metadata": {},
     "output_type": "execute_result"
    },
    {
     "data": {
      "image/png": "[encoded data removed]",
      "text/plain": [
       "<matplotlib.figure.Figure at 0x8afad68>"
      ]
     },
     "metadata": {},
     "output_type": "display_data"
    }
   ],
   "source": [
    "digit_img = digits_data['images'][0]\n",
    "print(digit_img.shape)\n",
    "\n",
    "%matplotlib inline\n",
    "import matplotlib.pyplot as plt\n",
    "plt.imshow(digit_img)\n",
    "plt.imshow(digit_img, cmap='gray')\n",
    "print('target:\\t', digits_data['target'][0])\n",
    "digits_data['target'][0]"
   ]
  },
  {
   "cell_type": "markdown",
   "metadata": {},
   "source": [
    "### fetch_olivetti_faces（图片分类数据， ten different images of each of 40 distinct subjects）"
   ]
  },
  {
   "cell_type": "code",
   "execution_count": 26,
   "metadata": {
    "collapsed": true
   },
   "outputs": [],
   "source": [
    "from sklearn.datasets import fetch_olivetti_faces"
   ]
  },
  {
   "cell_type": "code",
   "execution_count": 28,
   "metadata": {
    "collapsed": false
   },
   "outputs": [
    {
     "name": "stdout",
     "output_type": "stream",
     "text": [
      "downloading Olivetti faces from https://ndownloader.figshare.com/files/5976027 to C:\\Users\\Administrator\\scikit_learn_data\n"
     ]
    }
   ],
   "source": [
    "olivetti_faces_data = fetch_olivetti_faces()"
   ]
  },
  {
   "cell_type": "code",
   "execution_count": null,
   "metadata": {
    "collapsed": false
   },
   "outputs": [],
   "source": [
    "olivetti_faces_data.keys()"
   ]
  },
  {
   "cell_type": "markdown",
   "metadata": {},
   "source": [
    "### fetch_rcv1（路透社人群分类数据，804414 samples；47236 features；103class）"
   ]
  },
  {
   "cell_type": "code",
   "execution_count": 5,
   "metadata": {
    "collapsed": true
   },
   "outputs": [],
   "source": [
    "from sklearn.datasets import fetch_rcv1"
   ]
  },
  {
   "cell_type": "code",
   "execution_count": 9,
   "metadata": {
    "collapsed": false
   },
   "outputs": [],
   "source": [
    "rcv1_data = fetch_rcv1()"
   ]
  },
  {
   "cell_type": "code",
   "execution_count": 11,
   "metadata": {
    "collapsed": false
   },
   "outputs": [
    {
     "data": {
      "text/plain": [
       "dict_keys(['sample_id', 'target_names', 'DESCR', 'data', 'target'])"
      ]
     },
     "execution_count": 11,
     "metadata": {},
     "output_type": "execute_result"
    }
   ],
   "source": [
    "rcv1_data.keys()"
   ]
  },
  {
   "cell_type": "code",
   "execution_count": 20,
   "metadata": {
    "collapsed": false
   },
   "outputs": [
    {
     "name": "stdout",
     "output_type": "stream",
     "text": [
      "103\n"
     ]
    },
    {
     "data": {
      "text/plain": [
       "array(['C11', 'C12', 'C13', 'C14', 'C15', 'C151', 'C1511', 'C152', 'C16',\n",
       "       'C17', 'C171', 'C172', 'C173', 'C174', 'C18', 'C181', 'C182',\n",
       "       'C183', 'C21', 'C22', 'C23', 'C24', 'C31', 'C311', 'C312', 'C313',\n",
       "       'C32', 'C33', 'C331', 'C34', 'C41', 'C411', 'C42', 'CCAT', 'E11',\n",
       "       'E12', 'E121', 'E13', 'E131', 'E132', 'E14', 'E141', 'E142', 'E143',\n",
       "       'E21', 'E211', 'E212', 'E31', 'E311', 'E312', 'E313', 'E41', 'E411',\n",
       "       'E51', 'E511', 'E512', 'E513', 'E61', 'E71', 'ECAT', 'G15', 'G151',\n",
       "       'G152', 'G153', 'G154', 'G155', 'G156', 'G157', 'G158', 'G159',\n",
       "       'GCAT', 'GCRIM', 'GDEF', 'GDIP', 'GDIS', 'GENT', 'GENV', 'GFAS',\n",
       "       'GHEA', 'GJOB', 'GMIL', 'GOBIT', 'GODD', 'GPOL', 'GPRO', 'GREL',\n",
       "       'GSCI', 'GSPO', 'GTOUR', 'GVIO', 'GVOTE', 'GWEA', 'GWELF', 'M11',\n",
       "       'M12', 'M13', 'M131', 'M132', 'M14', 'M141', 'M142', 'M143', 'MCAT'], dtype=object)"
      ]
     },
     "execution_count": 20,
     "metadata": {},
     "output_type": "execute_result"
    }
   ],
   "source": [
    "print(len(rcv1_data['target_names']))\n",
    "rcv1_data['target_names']"
   ]
  },
  {
   "cell_type": "code",
   "execution_count": 16,
   "metadata": {
    "collapsed": false
   },
   "outputs": [
    {
     "name": "stdout",
     "output_type": "stream",
     "text": [
      "804414\n"
     ]
    },
    {
     "data": {
      "text/plain": [
       "array([  2286,   2287,   2288, ..., 810594, 810595, 810596], dtype=uint32)"
      ]
     },
     "execution_count": 16,
     "metadata": {},
     "output_type": "execute_result"
    }
   ],
   "source": [
    "print(len(rcv1_data['sample_id']))\n",
    "rcv1_data['sample_id']"
   ]
  },
  {
   "cell_type": "code",
   "execution_count": 18,
   "metadata": {
    "collapsed": false
   },
   "outputs": [
    {
     "data": {
      "text/plain": [
       "(804414, 47236)"
      ]
     },
     "execution_count": 18,
     "metadata": {},
     "output_type": "execute_result"
    }
   ],
   "source": [
    "rcv1_data['data'].shape"
   ]
  },
  {
   "cell_type": "code",
   "execution_count": 19,
   "metadata": {
    "collapsed": false
   },
   "outputs": [
    {
     "data": {
      "text/plain": [
       "(804414, 103)"
      ]
     },
     "execution_count": 19,
     "metadata": {},
     "output_type": "execute_result"
    }
   ],
   "source": [
    "rcv1_data['target'].shape"
   ]
  },
  {
   "cell_type": "markdown",
   "metadata": {},
   "source": [
    "### fetch_species_distributions"
   ]
  },
  {
   "cell_type": "code",
   "execution_count": 2,
   "metadata": {
    "collapsed": true
   },
   "outputs": [],
   "source": [
    "from sklearn.datasets import fetch_species_distributions"
   ]
  },
  {
   "cell_type": "code",
   "execution_count": 3,
   "metadata": {
    "collapsed": false
   },
   "outputs": [
    {
     "data": {
      "text/plain": [
       "dict_keys(['grid_size', 'test', 'y_left_lower_corner', 'train', 'Ny', 'coverages', 'Nx', 'x_left_lower_corner'])"
      ]
     },
     "execution_count": 3,
     "metadata": {},
     "output_type": "execute_result"
    }
   ],
   "source": [
    "species_distributions_data = fetch_species_distributions()\n",
    "species_distributions_data.keys()"
   ]
  },
  {
   "cell_type": "code",
   "execution_count": 44,
   "metadata": {
    "collapsed": false
   },
   "outputs": [
    {
     "name": "stdout",
     "output_type": "stream",
     "text": [
      "(14, 1592, 1212)\n"
     ]
    },
    {
     "data": {
      "text/plain": [
       "array([[-128, -128, -128, ..., -128, -128, -128],\n",
       "       [-128, -128, -128, ..., -128, -128, -128],\n",
       "       [-128, -128, -128, ..., -128, -128, -128],\n",
       "       ..., \n",
       "       [-128, -128, -128, ..., -128, -128, -128],\n",
       "       [-128, -128, -128, ..., -128, -128, -128],\n",
       "       [-128, -128, -128, ..., -128, -128, -128]], dtype=int16)"
      ]
     },
     "execution_count": 44,
     "metadata": {},
     "output_type": "execute_result"
    }
   ],
   "source": [
    "# These represent the 14 features measured at each point of the map grid. \n",
    "# The latitude/longitude values for the grid are discussed below. \n",
    "# Missing data is represented by the value -9999.\n",
    "print(species_distributions_data['coverages'].shape)\n",
    "species_distributions_data['coverages'][2]"
   ]
  },
  {
   "cell_type": "code",
   "execution_count": 119,
   "metadata": {
    "collapsed": false
   },
   "outputs": [
    {
     "name": "stdout",
     "output_type": "stream",
     "text": [
      "[-9999]\n",
      "-9999\n",
      "\n",
      "(3,)\n",
      "[2 3 4]\n",
      "[-2 -3 -4]\n",
      "\n",
      "[ True  True  True]\n",
      "[ True False  True]\n",
      "True\n",
      "False\n",
      "\n",
      "<class 'numpy.ndarray'> <class 'numpy.ndarray'>\n",
      "(14, 100)\n",
      "(14, 100)\n",
      "\n",
      "[[False False False ..., False False False]\n",
      " [False False False ..., False False False]\n",
      " [ True  True  True ..., False False False]\n",
      " ..., \n",
      " [False False False ..., False False False]\n",
      " [False False False ..., False False False]\n",
      " [False False False ..., False False False]]\n",
      "False\n",
      "True\n",
      "\n",
      "(14, 1592, 3)\n",
      "(14, 3)\n",
      "(3, 1592)\n"
     ]
    }
   ],
   "source": [
    "print(species_distributions_data['coverages'][[1], [1], [1]])\n",
    "print(species_distributions_data['coverages'][1, 1, 1])\n",
    "print()\n",
    "\n",
    "print(np.array([2,3,4]).shape)\n",
    "print(np.array([2,3,4]))\n",
    "print(-np.array([2,3,4]))\n",
    "print()\n",
    "\n",
    "print(np.array([2,3,4]) == np.array([2,3,4]))\n",
    "print(np.array([2,3,4]) == np.array([2,8,4]))\n",
    "print(np.all(np.array([2,3,4]) == np.array([2,3,4])))\n",
    "print(np.all(np.array([2,3,4]) == np.array([2,8,4])))\n",
    "print()\n",
    "\n",
    "\n",
    "print(type(index1), type(np.array([1,2,3])))\n",
    "index1 = np.arange(300,500,2)\n",
    "a = species_distributions_data['coverages'][:, index1, index1]  # 索引的长度需要一致 \n",
    "print(a.shape)\n",
    "b = species_distributions_data['coverages'][:, -index1, index1]  # ‘-’表示从后向前数\n",
    "print(b.shape)\n",
    "# print(a)\n",
    "# print(b)\n",
    "print()\n",
    "\n",
    "print(a==b)\n",
    "print(np.all(a==b))\n",
    "print(np.any(a==b))\n",
    "print()\n",
    "\n",
    "index2 = np.array([1,2,3])\n",
    "c1 = species_distributions_data['coverages'][:, :, index2]\n",
    "print(c1.shape)\n",
    "c2 = species_distributions_data['coverages'][:, index2, index2]\n",
    "print(c2.shape)\n",
    "c3 = species_distributions_data['coverages'][index2, :, index2]\n",
    "print(c3.shape)\n"
   ]
  },
  {
   "cell_type": "code",
   "execution_count": 5,
   "metadata": {
    "collapsed": false
   },
   "outputs": [
    {
     "data": {
      "text/plain": [
       "(1212, 1592)"
      ]
     },
     "execution_count": 5,
     "metadata": {},
     "output_type": "execute_result"
    }
   ],
   "source": [
    "# The number of longitudes (x) and latitudes (y) in the grid\n",
    "species_distributions_data['Nx'], species_distributions_data['Ny']"
   ]
  },
  {
   "cell_type": "code",
   "execution_count": 6,
   "metadata": {
    "collapsed": false
   },
   "outputs": [
    {
     "data": {
      "text/plain": [
       "(0.05, -94.8, -56.05)"
      ]
     },
     "execution_count": 6,
     "metadata": {},
     "output_type": "execute_result"
    }
   ],
   "source": [
    "species_distributions_data['grid_size'], species_distributions_data['x_left_lower_corner'], species_distributions_data['y_left_lower_corner'], "
   ]
  },
  {
   "cell_type": "code",
   "execution_count": 10,
   "metadata": {
    "collapsed": false
   },
   "outputs": [
    {
     "name": "stdout",
     "output_type": "stream",
     "text": [
      "(1624,)\n"
     ]
    },
    {
     "data": {
      "text/plain": [
       "array([(b'microryzomys_minutus', -64.69999694824219, -17.850000381469727),\n",
       "       (b'microryzomys_minutus', -67.83329772949219, -16.33329963684082),\n",
       "       (b'microryzomys_minutus', -67.88330078125, -16.299999237060547)], \n",
       "      dtype=[('species', 'S22'), ('dd long', '<f4'), ('dd lat', '<f4')])"
      ]
     },
     "execution_count": 10,
     "metadata": {},
     "output_type": "execute_result"
    }
   ],
   "source": [
    "print(species_distributions_data['train'].shape)\n",
    "species_distributions_data['train'][0:3]"
   ]
  },
  {
   "cell_type": "code",
   "execution_count": 11,
   "metadata": {
    "collapsed": false
   },
   "outputs": [
    {
     "name": "stdout",
     "output_type": "stream",
     "text": [
      "(620,)\n"
     ]
    },
    {
     "data": {
      "text/plain": [
       "array([(b'bradypus_variegatus_0', -65.38330078125, -10.383299827575684),\n",
       "       (b'bradypus_variegatus_0', -63.66669845581055, -17.450000762939453),\n",
       "       (b'bradypus_variegatus_0', -64.41670227050781, -16.0)], \n",
       "      dtype=[('species', 'S22'), ('dd long', '<f4'), ('dd lat', '<f4')])"
      ]
     },
     "execution_count": 11,
     "metadata": {},
     "output_type": "execute_result"
    }
   ],
   "source": [
    "print(species_distributions_data['test'].shape)\n",
    "species_distributions_data['test'][0:3]"
   ]
  },
  {
   "cell_type": "code",
   "execution_count": 59,
   "metadata": {
    "collapsed": false
   },
   "outputs": [
    {
     "name": "stdout",
     "output_type": "stream",
     "text": [
      "(620,)\n",
      "\n",
      "<class 'numpy.ndarray'>\n",
      "[(b'bradypus_variegatus_0', -65.38330078125, -10.383299827575684)\n",
      " (b'bradypus_variegatus_0', -63.66669845581055, -17.450000762939453)\n",
      " (b'bradypus_variegatus_0', -64.41670227050781, -16.0)]\n",
      "[('species', 'S22'), ('dd long', '<f4'), ('dd lat', '<f4')]\n",
      "\n",
      "620\n",
      "620\n",
      "620\n",
      "\n",
      "{b'bradypus_variegatus', b'bradypus_variegatus_4', b'bradypus_variegatus_7', b'microryzomys_minutus_3', b'microryzomys_minutus_7', b'microryzomys_minutus', b'bradypus_variegatus_9', b'bradypus_variegatus_3', b'bradypus_variegatus_8', b'microryzomys_minutus_9', b'microryzomys_minutus_4', b'microryzomys_minutus_8', b'bradypus_variegatus_6', b'microryzomys_minutus_1', b'microryzomys_minutus_5', b'bradypus_variegatus_0', b'bradypus_variegatus_5', b'microryzomys_minutus_2', b'bradypus_variegatus_2', b'bradypus_variegatus_1', b'microryzomys_minutus_0', b'microryzomys_minutus_6'}\n",
      "22\n"
     ]
    }
   ],
   "source": [
    "print(species_distributions_data['test'].shape)\n",
    "\n",
    "print()\n",
    "print(type(species_distributions_data['test']))\n",
    "# print(species_distributions_data['test'])\n",
    "print(species_distributions_data['test'][0:3])\n",
    "print(species_distributions_data['test'][0:3].dtype)\n",
    "\n",
    "print()\n",
    "print(len(species_distributions_data['test']['species']))\n",
    "print(len(species_distributions_data['test']['dd long']))\n",
    "print(len(species_distributions_data['test']['dd lat']))\n",
    "\n",
    "print()\n",
    "print(set(species_distributions_data['train']['species']))\n",
    "print(len(set(species_distributions_data['train']['species'])))"
   ]
  },
  {
   "cell_type": "code",
   "execution_count": 39,
   "metadata": {
    "collapsed": false
   },
   "outputs": [
    {
     "name": "stdout",
     "output_type": "stream",
     "text": [
      "[ 0.95934452]\n",
      "[0]\n"
     ]
    }
   ],
   "source": [
    "a = np.random.rand(1)*3\n",
    "print(a)\n",
    "b = [1,2,4]\n",
    "c = np.searchsorted(b, a)  #二分法查找a在b中的位置，返回位置索引值\n",
    "print(c)"
   ]
  },
  {
   "cell_type": "code",
   "execution_count": 1,
   "metadata": {
    "collapsed": false
   },
   "outputs": [
    {
     "ename": "NameError",
     "evalue": "name 'np' is not defined",
     "output_type": "error",
     "traceback": [
      "\u001b[0;31m---------------------------------------------------------------------------\u001b[0m",
      "\u001b[0;31mNameError\u001b[0m                                 Traceback (most recent call last)",
      "\u001b[0;32m<ipython-input-1-81cbb4a912d2>\u001b[0m in \u001b[0;36m<module>\u001b[0;34m()\u001b[0m\n\u001b[0;32m----> 1\u001b[0;31m \u001b[0mnp\u001b[0m\u001b[1;33m.\u001b[0m\u001b[0msearchsorted\u001b[0m\u001b[1;33m(\u001b[0m\u001b[1;33m[\u001b[0m\u001b[1;36m1\u001b[0m\u001b[1;33m,\u001b[0m\u001b[1;36m10\u001b[0m\u001b[1;33m,\u001b[0m\u001b[1;36m30\u001b[0m\u001b[1;33m]\u001b[0m\u001b[1;33m,\u001b[0m \u001b[1;33m[\u001b[0m\u001b[1;36m0\u001b[0m\u001b[1;33m,\u001b[0m \u001b[1;36m1\u001b[0m\u001b[1;33m,\u001b[0m \u001b[1;36m2\u001b[0m\u001b[1;33m,\u001b[0m \u001b[1;36m8\u001b[0m\u001b[1;33m,\u001b[0m \u001b[1;36m22\u001b[0m\u001b[1;33m,\u001b[0m \u001b[1;36m50\u001b[0m\u001b[1;33m]\u001b[0m\u001b[1;33m)\u001b[0m\u001b[1;33m\u001b[0m\u001b[0m\n\u001b[0m",
      "\u001b[0;31mNameError\u001b[0m: name 'np' is not defined"
     ]
    }
   ],
   "source": [
    "np.searchsorted([1,10,30], [0, 1, 2, 8, 22, 50])"
   ]
  },
  {
   "cell_type": "code",
   "execution_count": null,
   "metadata": {
    "collapsed": true
   },
   "outputs": [],
   "source": [
    "x = np.arange(1,10, 1)\n",
    "y = np.arange(1,10, 1)\n",
    "\n",
    "np.c_[x, y]"
   ]
  },
  {
   "cell_type": "markdown",
   "metadata": {},
   "source": [
    "### 使用species_distributions画一下图把"
   ]
  },
  {
   "cell_type": "code",
   "execution_count": 3,
   "metadata": {
    "collapsed": true
   },
   "outputs": [],
   "source": [
    "from time import time\n",
    "\n",
    "import numpy as np\n",
    "import matplotlib.pyplot as plt\n",
    "\n",
    "from sklearn.datasets.base import Bunch\n",
    "from sklearn.datasets import fetch_species_distributions\n",
    "from sklearn.datasets.species_distributions import construct_grids\n",
    "from sklearn import svm, metrics"
   ]
  },
  {
   "cell_type": "code",
   "execution_count": 4,
   "metadata": {
    "collapsed": false
   },
   "outputs": [
    {
     "name": "stdout",
     "output_type": "stream",
     "text": [
      "Automatically created module for IPython interactive environment\n"
     ]
    }
   ],
   "source": [
    "try:\n",
    "    from mpl_toolkits.basemap import Basemap\n",
    "    basemap = True\n",
    "except ImportError:\n",
    "    basemap = False\n",
    "\n",
    "print(__doc__)"
   ]
  },
  {
   "cell_type": "code",
   "execution_count": 5,
   "metadata": {
    "collapsed": false
   },
   "outputs": [],
   "source": [
    "?construct_grids"
   ]
  },
  {
   "cell_type": "code",
   "execution_count": 6,
   "metadata": {
    "collapsed": true
   },
   "outputs": [],
   "source": [
    "def create_species_bunch(species_name, train, test, coverages, xgrid, ygrid):\n",
    "    \"\"\"Create a bunch with information about a particular organism（特殊的生物）\n",
    "    \n",
    "    This will use the test/train record arrays to extract the data specific to the given species name.\n",
    "    \n",
    "    species_name： 物种名称\n",
    "    \"\"\"\n",
    "    bunch = Bunch(name=' '.join(species_name.split(\"_\")[:2]))\n",
    "    print('bunch:\\t', bunch)\n",
    "    species_name = species_name.encode('ascii')\n",
    "    points = dict(test=test, train=train)\n",
    "#     print(len(points))\n",
    "    \n",
    "    for label, pts in points.items():\n",
    "#         print('nijiazhi', label, pts)\n",
    "\n",
    "        # choose points associated with the desired species\n",
    "        pts = pts[pts['species'] == species_name]  # 物种名字\n",
    "        bunch['pts_%s' % label] = pts  # bunch['pts_train']， bunch['pts_test']\n",
    "\n",
    "        # determine coverage values for each of the training & testing points\n",
    "        index_x = np.searchsorted(xgrid, pts['dd long'])  # 二分法查找pts['dd long']在xgrid中的位置，返回位置索引值\n",
    "        index_y = np.searchsorted(ygrid, pts['dd lat'])\n",
    "        print('dd long, dd lat:\\t', len(pts['dd long']), len(pts['dd lat']))\n",
    "        print('xgrid, ygrid:\\t', len(xgrid), len(ygrid))\n",
    "        print('index_x, index_y:\\t', len(index_x), len(index_y))\n",
    "        bunch['cov_%s' % label] = coverages[:, -index_y, index_x].T  # 负号表示从后往前；转置表示将xy坐标系调整好，原来是yx坐标系\n",
    "\n",
    "    return bunch"
   ]
  },
  {
   "cell_type": "code",
   "execution_count": 7,
   "metadata": {
    "collapsed": false
   },
   "outputs": [
    {
     "name": "stdout",
     "output_type": "stream",
     "text": [
      "xgrid, ygrid 1212 1592\n",
      "X, Y (1592, 1212) (1592, 1212)\n",
      "bunch:\t {'name': 'bradypus variegatus'}\n",
      "dd long, dd lat:\t 81 81\n",
      "xgrid, ygrid:\t 1212 1592\n",
      "index_x, index_y:\t 81 81\n",
      "dd long, dd lat:\t 35 35\n",
      "xgrid, ygrid:\t 1212 1592\n",
      "index_x, index_y:\t 35 35\n",
      "bunch:\t {'name': 'microryzomys minutus'}\n",
      "dd long, dd lat:\t 61 61\n",
      "xgrid, ygrid:\t 1212 1592\n",
      "index_x, index_y:\t 61 61\n",
      "dd long, dd lat:\t 27 27\n",
      "xgrid, ygrid:\t 1212 1592\n",
      "index_x, index_y:\t 27 27\n",
      "background_points.shape: (2, 10000)\n",
      "________________________________________________________________________________\n",
      "Modeling distribution of species 'bradypus variegatus'\n",
      "dict_keys(['cov_test', 'pts_test', 'name', 'pts_train', 'cov_train'])\n",
      "train shape, test shape (81, 14) (35, 14)\n",
      " - fit OneClassSVM ... done.\n",
      " - plot coastlines from coverage\n",
      " - predict species distribution\n",
      "\n",
      " Area under the ROC curve : 0.908977\n",
      "________________________________________________________________________________\n",
      "Modeling distribution of species 'microryzomys minutus'\n",
      "dict_keys(['cov_test', 'pts_test', 'name', 'pts_train', 'cov_train'])\n",
      "train shape, test shape (61, 14) (27, 14)\n",
      " - fit OneClassSVM ... done.\n",
      " - plot coastlines from coverage\n",
      " - predict species distribution\n",
      "\n",
      " Area under the ROC curve : 0.992833\n",
      "\n",
      "time elapsed: 4.68s\n"
     ]
    },
    {
     "data": {
      "image/png": "[encoded data removed]",
      "text/plain": [
       "<matplotlib.figure.Figure at 0x9ec5a58>"
      ]
     },
     "metadata": {},
     "output_type": "display_data"
    }
   ],
   "source": [
    "def plot_species_distribution(species=(\"bradypus_variegatus_1\", \"microryzomys_minutus_1\")):\n",
    "\n",
    "    \"\"\"\n",
    "    Plot the species distribution.\n",
    "    \"\"\"\n",
    "    \n",
    "    if len(species) > 2:\n",
    "        print(\"Note: when more than two species are provided, only the first two will be used\")\n",
    "\n",
    "    t0 = time()\n",
    "\n",
    "    # Load the compressed data\n",
    "    data = fetch_species_distributions()\n",
    "\n",
    "    # Set up the data grid\n",
    "    # The grid corresponding to the values in batch.coverages(fetch_species_distributions)\n",
    "    xgrid, ygrid = construct_grids(data)  # 构建地理网格\n",
    "    print('xgrid, ygrid', len(xgrid), len(ygrid))\n",
    "#     print(len(xgrid), len(ygrid))\n",
    "\n",
    "    # The grid in x,y coordinates\n",
    "    X, Y = np.meshgrid(xgrid, ygrid[::-1])  # ygrid[::-1]表示逆序\n",
    "    print('X, Y', X.shape, Y.shape)\n",
    "\n",
    "    # create a bunch for each species\n",
    "    BV_bunch = create_species_bunch(species[0],\n",
    "                                    data.train, data.test,\n",
    "                                    data.coverages, xgrid, ygrid)\n",
    "    \n",
    "    MM_bunch = create_species_bunch(species[1],\n",
    "                                    data.train, data.test,\n",
    "                                    data.coverages, xgrid, ygrid)\n",
    "\n",
    "    \n",
    "    # background points (grid coordinates) for evaluation\n",
    "    np.random.seed(13)\n",
    "    background_points = np.c_[\n",
    "        np.random.randint(low=0, high=data.Ny, size=10000),\n",
    "        np.random.randint(low=0, high=data.Nx, size=10000)\n",
    "    ].T\n",
    "    print('background_points.shape:', background_points.shape)\n",
    "\n",
    "    \n",
    "    # We'll make use of the fact that coverages[6] has measurements at all land points.  \n",
    "    # This will help us decide between land and water. \n",
    "    # coverages[6] 的第6个特征来区分陆地和水\n",
    "    land_reference = data.coverages[6]\n",
    "\n",
    "    # Fit, predict, and plot for each species.\n",
    "    for i, species in enumerate([BV_bunch, MM_bunch]):\n",
    "        print(\"_\" * 80)\n",
    "        print(\"Modeling distribution of species '%s'\" % species.name)\n",
    "        print(species.keys())\n",
    "        print(\"train shape, test shape\", species.cov_train.shape, species.cov_test.shape)\n",
    "        \n",
    "        # Standardize features\n",
    "        mean = species.cov_train.mean(axis=0)\n",
    "        std = species.cov_train.std(axis=0)\n",
    "        train_cover_std = (species.cov_train - mean) / std\n",
    "\n",
    "        # Fit OneClassSVM\n",
    "        print(\" - fit OneClassSVM ... \", end='')\n",
    "        clf = svm.OneClassSVM(nu=0.1, kernel=\"rbf\", gamma=0.5)\n",
    "        clf.fit(train_cover_std)\n",
    "        print(\"done.\")\n",
    "\n",
    "        # Plot map of South America\n",
    "        plt.subplot(1, 2, i + 1)\n",
    "        if basemap: # 地图底图\n",
    "            print(\" - plot coastlines using basemap\")\n",
    "            m = Basemap(projection='cyl', llcrnrlat=Y.min(), urcrnrlat=Y.max(), llcrnrlon=X.min(), urcrnrlon=X.max(), resolution='c')\n",
    "            m.drawcoastlines()\n",
    "            m.drawcountries()\n",
    "        else:\n",
    "            print(\" - plot coastlines from coverage\")\n",
    "            plt.contour(X, Y, land_reference, levels=[-9999], colors=\"k\", linestyles=\"solid\")\n",
    "            plt.xticks([])\n",
    "            plt.yticks([])\n",
    "        print(\" - predict species distribution\")\n",
    "\n",
    "        # Predict species distribution using the training data\n",
    "        Z = np.ones((data.Ny, data.Nx), dtype=np.float64)\n",
    "\n",
    "        # We'll predict only for the land points.\n",
    "        idx = np.where(land_reference > -9999)\n",
    "        coverages_land = data.coverages[:, idx[0], idx[1]].T\n",
    "\n",
    "        pred = clf.decision_function((coverages_land - mean) / std)[:, 0]\n",
    "        Z *= pred.min()\n",
    "        Z[idx[0], idx[1]] = pred\n",
    "\n",
    "        levels = np.linspace(Z.min(), Z.max(), 25)\n",
    "        Z[land_reference == -9999] = -9999\n",
    "\n",
    "        # plot contours of the prediction\n",
    "        plt.contourf(X, Y, Z, levels=levels, cmap=plt.cm.Reds)\n",
    "        plt.colorbar(format='%.2f')\n",
    "\n",
    "        # scatter training/testing points\n",
    "        plt.scatter(species.pts_train['dd long'], species.pts_train['dd lat'],\n",
    "                    s=2 ** 2, c='black',\n",
    "                    marker='^', label='train')\n",
    "        \n",
    "        plt.scatter(species.pts_test['dd long'], species.pts_test['dd lat'],\n",
    "                    s=2 ** 2, c='black',\n",
    "                    marker='x', label='test')\n",
    "        plt.legend()\n",
    "        plt.title(species.name)\n",
    "        plt.axis('equal')\n",
    "\n",
    "        # Compute AUC with regards to background points\n",
    "        pred_background = Z[background_points[0], background_points[1]]\n",
    "        pred_test = clf.decision_function((species.cov_test - mean)/ std)[:, 0]\n",
    "        scores = np.r_[pred_test, pred_background]\n",
    "        y = np.r_[np.ones(pred_test.shape), np.zeros(pred_background.shape)]\n",
    "        fpr, tpr, thresholds = metrics.roc_curve(y, scores)\n",
    "        roc_auc = metrics.auc(fpr, tpr)\n",
    "        plt.text(-35, -70, \"AUC: %.3f\" % roc_auc, ha=\"right\")\n",
    "        print(\"\\n Area under the ROC curve : %f\" % roc_auc)\n",
    "\n",
    "    print(\"\\ntime elapsed: %.2fs\" % (time() - t0))\n",
    "\n",
    "\n",
    "plot_species_distribution()\n",
    "plt.show()"
   ]
  },
  {
   "cell_type": "code",
   "execution_count": 51,
   "metadata": {
    "collapsed": false
   },
   "outputs": [
    {
     "name": "stdout",
     "output_type": "stream",
     "text": [
      "[-94.75 -94.7  -94.65 -94.6  -94.55 -94.5  -94.45 -94.4  -94.35 -94.3 ]\n",
      "[-56.   -55.95 -55.9  -55.85 -55.8  -55.75 -55.7  -55.65 -55.6  -55.55]\n"
     ]
    },
    {
     "data": {
      "text/plain": [
       "((1592,), (), (1592,))"
      ]
     },
     "execution_count": 51,
     "metadata": {},
     "output_type": "execute_result"
    }
   ],
   "source": [
    "data = fetch_species_distributions()\n",
    "xgrid, ygrid = construct_grids(data)  # 构建地理网格？\n",
    "print(xgrid[0:10])\n",
    "print(ygrid[0:10])\n",
    "ygrid[:].shape, ygrid[-1].shape, ygrid[::-1].shape\n",
    "# X, Y = np.meshgrid(xgrid, ygrid[::-1])"
   ]
  },
  {
   "cell_type": "code",
   "execution_count": 46,
   "metadata": {
    "collapsed": false
   },
   "outputs": [
    {
     "name": "stdout",
     "output_type": "stream",
     "text": [
      "[0 1 2 3 4 5 6 7 8 9]\n",
      "[0 1 2 3 4 5 6 7 8 9]\n",
      "[0 1 2 3 4 5 6 7 8]\n",
      "[0 1 2 3 4 5 6 7]\n",
      "[9 8 7 6 5 4 3 2 1 0]\n",
      "[0 1 2 3 4 5 6 7 8 9]\n",
      "[2 3 4 5 6 7]\n"
     ]
    }
   ],
   "source": [
    "test = np.arange(10)\n",
    "print(test)\n",
    "print(test[:])\n",
    "print(test[:-1])\n",
    "print(test[:-2])\n",
    "print(test[::-1])\n",
    "print(test[::1])\n",
    "print(test[2:-2])"
   ]
  },
  {
   "cell_type": "code",
   "execution_count": 128,
   "metadata": {
    "collapsed": false
   },
   "outputs": [
    {
     "name": "stdout",
     "output_type": "stream",
     "text": [
      "[0 1 2 3]\n",
      "[0 1 2 3 4]\n"
     ]
    },
    {
     "data": {
      "text/plain": [
       "[array([[0, 1, 2, 3],\n",
       "        [0, 1, 2, 3],\n",
       "        [0, 1, 2, 3],\n",
       "        [0, 1, 2, 3],\n",
       "        [0, 1, 2, 3]]), array([[0, 0, 0, 0],\n",
       "        [1, 1, 1, 1],\n",
       "        [2, 2, 2, 2],\n",
       "        [3, 3, 3, 3],\n",
       "        [4, 4, 4, 4]])]"
      ]
     },
     "execution_count": 128,
     "metadata": {},
     "output_type": "execute_result"
    }
   ],
   "source": [
    "x_nums = np.arange(4)\n",
    "y_nums = np.arange(5)\n",
    "print(x_nums)\n",
    "print(y_nums)\n",
    "data_list = np.meshgrid(x_nums ,y_nums)\n",
    "data_list"
   ]
  },
  {
   "cell_type": "code",
   "execution_count": 129,
   "metadata": {
    "collapsed": false
   },
   "outputs": [
    {
     "name": "stdout",
     "output_type": "stream",
     "text": [
      "(5, 4) (5, 4)\n"
     ]
    },
    {
     "data": {
      "text/plain": [
       "array([[0, 1, 2, 3],\n",
       "       [0, 1, 2, 3],\n",
       "       [0, 1, 2, 3],\n",
       "       [0, 1, 2, 3],\n",
       "       [0, 1, 2, 3]])"
      ]
     },
     "execution_count": 129,
     "metadata": {},
     "output_type": "execute_result"
    }
   ],
   "source": [
    "x, y = data_list\n",
    "print(x.shape, y.shape)\n",
    "x"
   ]
  },
  {
   "cell_type": "code",
   "execution_count": 60,
   "metadata": {
    "collapsed": false
   },
   "outputs": [
    {
     "name": "stdout",
     "output_type": "stream",
     "text": [
      "(5, 4)\n"
     ]
    },
    {
     "data": {
      "text/plain": [
       "array([[0, 0, 0, 0],\n",
       "       [1, 1, 1, 1],\n",
       "       [2, 2, 2, 2],\n",
       "       [3, 3, 3, 3],\n",
       "       [4, 4, 4, 4]])"
      ]
     },
     "execution_count": 60,
     "metadata": {},
     "output_type": "execute_result"
    }
   ],
   "source": [
    "print(y.shape)\n",
    "y"
   ]
  },
  {
   "cell_type": "markdown",
   "metadata": {},
   "source": [
    "#### meshgrid的作用\n",
    "\n",
    "根据传入的两个一维数组参数生成两个数组元素的列表。\n",
    "\n",
    "如果第一个参数是xarray，维度是xdimesion，第二个参数是yarray，维度是ydimesion。\n",
    "\n",
    "那么生成的第一个二维数组是以xarray为行，ydimesion行的向量；\n",
    "\n",
    "而第二个二维数组是以yarray的转置为列，xdimesion列的向量"
   ]
  },
  {
   "cell_type": "code",
   "execution_count": null,
   "metadata": {
    "collapsed": true
   },
   "outputs": [],
   "source": []
  }
 ],
 "metadata": {
  "anaconda-cloud": {},
  "kernelspec": {
   "display_name": "Python [conda root]",
   "language": "python",
   "name": "conda-root-py"
  },
  "language_info": {
   "codemirror_mode": {
    "name": "ipython",
    "version": 3
   },
   "file_extension": ".py",
   "mimetype": "text/x-python",
   "name": "python",
   "nbconvert_exporter": "python",
   "pygments_lexer": "ipython3",
   "version": "3.5.2"
  }
 },
 "nbformat": 4,
 "nbformat_minor": 1
}
